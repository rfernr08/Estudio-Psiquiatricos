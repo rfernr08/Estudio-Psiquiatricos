{
 "cells": [
  {
   "cell_type": "code",
   "execution_count": 2,
   "id": "e951b419",
   "metadata": {},
   "outputs": [
    {
     "ename": "SyntaxError",
     "evalue": "(unicode error) 'unicodeescape' codec can't decode bytes in position 2-3: truncated \\UXXXXXXXX escape (1239290478.py, line 6)",
     "output_type": "error",
     "traceback": [
      "  \u001b[36mCell\u001b[39m\u001b[36m \u001b[39m\u001b[32mIn[2]\u001b[39m\u001b[32m, line 6\u001b[39m\n\u001b[31m    \u001b[39m\u001b[31mpath = f\"C:\\Users\\Usuario\\Documents\\Workspace\\Estudio-Psiquiatricos\\models\\dccuchile_bert-base-spanish-wwm-cased_combinado_final\"\u001b[39m\n                                                                                                                                    ^\n\u001b[31mSyntaxError\u001b[39m\u001b[31m:\u001b[39m (unicode error) 'unicodeescape' codec can't decode bytes in position 2-3: truncated \\UXXXXXXXX escape\n"
     ]
    }
   ],
   "source": [
    "from transformers import AutoModelForSequenceClassification, AutoTokenizer\n",
    "import torch\n",
    "from sklearn.metrics import classification_report, roc_curve, auc, confusion_matrix, RocCurveDisplay, ConfusionMatrixDisplay\n",
    "import matplotlib.pyplot as plt\n",
    "\n",
    "path = f\"C:\\Users\\Usuario\\Documents\\Workspace\\Estudio-Psiquiatricos\\models\\dccuchile_bert-base-spanish-wwm-cased_combinado_final\"\n",
    "# Cargar modelo/tokenizador\n",
    "model = AutoModelForSequenceClassification.from_pretrained(path).to(\"cuda\")\n",
    "tokenizer = AutoTokenizer.from_pretrained(path)\n",
    "\n",
    "# Tokenizar test\n",
    "inputs = tokenizer(list(X_test), padding=True, truncation=True, return_tensors=\"pt\").to(\"cuda\")\n",
    "\n",
    "# Predicciones\n",
    "with torch.no_grad():\n",
    "    outputs = model(**inputs)\n",
    "    logits = outputs.logits\n",
    "    probs = torch.softmax(logits, dim=1).cpu().numpy()\n",
    "\n",
    "y_pred = probs.argmax(axis=1)\n",
    "y_proba = probs[:, 1]\n",
    "\n",
    "# Métricas\n",
    "print(classification_report(y_test, y_pred))\n",
    "\n",
    "# Matriz de confusión\n",
    "ConfusionMatrixDisplay.from_predictions(y_test, y_pred)\n",
    "plt.show()\n",
    "\n",
    "# Curva ROC\n",
    "fpr, tpr, _ = roc_curve(y_test, y_proba)\n",
    "roc_auc = auc(fpr, tpr)\n",
    "RocCurveDisplay(fpr=fpr, tpr=tpr, roc_auc=roc_auc).plot()\n",
    "plt.title(\"Curva ROC\")\n",
    "plt.show()\n"
   ]
  }
 ],
 "metadata": {
  "kernelspec": {
   "display_name": "alba",
   "language": "python",
   "name": "python3"
  },
  "language_info": {
   "codemirror_mode": {
    "name": "ipython",
    "version": 3
   },
   "file_extension": ".py",
   "mimetype": "text/x-python",
   "name": "python",
   "nbconvert_exporter": "python",
   "pygments_lexer": "ipython3",
   "version": "3.13.5"
  }
 },
 "nbformat": 4,
 "nbformat_minor": 5
}
